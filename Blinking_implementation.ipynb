{
  "nbformat": 4,
  "nbformat_minor": 0,
  "metadata": {
    "colab": {
      "name": "Blinking_implementation.ipynb",
      "provenance": [],
      "collapsed_sections": [],
      "include_colab_link": true
    },
    "kernelspec": {
      "name": "python3",
      "display_name": "Python 3"
    }
  },
  "cells": [
    {
      "cell_type": "markdown",
      "metadata": {
        "id": "view-in-github",
        "colab_type": "text"
      },
      "source": [
        "<a href=\"https://colab.research.google.com/github/dataSci-rigo/blink_detection/blob/master/Blinking_implementation.ipynb\" target=\"_parent\"><img src=\"https://colab.research.google.com/assets/colab-badge.svg\" alt=\"Open In Colab\"/></a>"
      ]
    },
    {
      "cell_type": "code",
      "metadata": {
        "id": "HcLFdQwdpnrw",
        "colab_type": "code",
        "outputId": "f5527ee0-212b-4738-b4eb-0236894be3b9",
        "colab": {
          "base_uri": "https://localhost:8080/",
          "height": 34
        }
      },
      "source": [
        "from google.colab import drive\n",
        "drive.mount('/content/drive')"
      ],
      "execution_count": 0,
      "outputs": [
        {
          "output_type": "stream",
          "text": [
            "Drive already mounted at /content/drive; to attempt to forcibly remount, call drive.mount(\"/content/drive\", force_remount=True).\n"
          ],
          "name": "stdout"
        }
      ]
    },
    {
      "cell_type": "code",
      "metadata": {
        "id": "6FVAkv9RWQVp",
        "colab_type": "code",
        "colab": {}
      },
      "source": [
        "def isBlinking(history, maxFrames):\n",
        "    \"\"\" @history: A string containing the history of eyes status \n",
        "         where a '1' means that the eyes were closed and '0' open.\n",
        "        @maxFrames: The maximal number of successive frames where an eye is closed \"\"\"\n",
        "    for i in range(maxFrames):\n",
        "        pattern = '1' + '0' + '1'\n",
        "        if pattern in history:\n",
        "            return True\n",
        "    return False"
      ],
      "execution_count": 0,
      "outputs": []
    },
    {
      "cell_type": "code",
      "metadata": {
        "id": "07-U5JRidirw",
        "colab_type": "code",
        "colab": {}
      },
      "source": [
        "import cv2\n",
        "face_detector= cv2.CascadeClassifier('drive/My Drive/w251/w251/haarcascade_frontalface_alt.xml')\n",
        "open_eyes_detector= cv2.CascadeClassifier('drive/My Drive/w251/w251/haarcascade_eye_tree_eyeglasses.xml')\n",
        "left_eye_detector= cv2.CascadeClassifier('drive/My Drive/w251/w251/haarcascade_lefteye_2splits.xml')\n",
        "right_eye_detector= cv2.CascadeClassifier('drive/My Drive/w251/w251/haarcascade_righteye_2splits.xml')\n"
      ],
      "execution_count": 0,
      "outputs": []
    },
    {
      "cell_type": "code",
      "metadata": {
        "id": "w4ZGDVWTWToS",
        "colab_type": "code",
        "outputId": "43fb3470-4638-410c-ffd7-c3e6b6303035",
        "colab": {
          "base_uri": "https://localhost:8080/",
          "height": 52
        }
      },
      "source": [
        "def detect_and_display(face_detector, open_eyes_detector, left_eye_detector, right_eye_detector,images):\n",
        "      eyes_detected=''\n",
        "      for img in images:   \n",
        "        #frame = video_capture.read()\n",
        "        # resize the frame\n",
        "        frame=img = cv2.imread(img)\n",
        "        frame = cv2.resize(frame, (0, 0), fx=0.6, fy=0.6)\n",
        "\n",
        "        gray = cv2.cvtColor(frame, cv2.COLOR_BGR2GRAY)\n",
        "        rgb = cv2.cvtColor(frame, cv2.COLOR_BGR2RGB)\n",
        "        \n",
        "        # Detect faces\n",
        "        faces = face_detector.detectMultiScale(\n",
        "            gray,\n",
        "            scaleFactor=1.2,\n",
        "            minNeighbors=5,\n",
        "            minSize=(50, 50),\n",
        "            flags=cv2.CASCADE_SCALE_IMAGE\n",
        "        )\n",
        "\n",
        "        # for each detected face\n",
        "        for (x,y,w,h) in faces:\n",
        "            # Encode the face into a 128-d embeddings vector\n",
        "\n",
        "\n",
        "            # For now we don't know the person name\n",
        "            name = \"Unknown\"\n",
        "\n",
        "            # If there is at least one match:\n",
        "\n",
        "\n",
        "            face = frame[y:y+h,x:x+w]\n",
        "            gray_face = gray[y:y+h,x:x+w]\n",
        "\n",
        "            eyes = []\n",
        "            \n",
        "            # Eyes detection\n",
        "            # check first if eyes are open (with glasses taking into account)\n",
        "            open_eyes_glasses = open_eyes_detector.detectMultiScale(\n",
        "                gray_face,\n",
        "                scaleFactor=1.1,\n",
        "                minNeighbors=5,\n",
        "                minSize=(30, 30),\n",
        "                flags = cv2.CASCADE_SCALE_IMAGE\n",
        "            )\n",
        "            # if open_eyes_glasses detect eyes then they are open \n",
        "            if len(open_eyes_glasses) == 2:\n",
        "                eyes_detected +='1'\n",
        "                for (ex,ey,ew,eh) in open_eyes_glasses:\n",
        "                    cv2.rectangle(face,(ex,ey),(ex+ew,ey+eh),(0,255,0),2)\n",
        "            \n",
        "            # otherwise try detecting eyes using left and right_eye_detector\n",
        "            # which can detect open and closed eyes                \n",
        "            else:\n",
        "                # separate the face into left and right sides\n",
        "                left_face = frame[y:y+h, x+int(w/2):x+w]\n",
        "                left_face_gray = gray[y:y+h, x+int(w/2):x+w]\n",
        "\n",
        "                right_face = frame[y:y+h, x:x+int(w/2)]\n",
        "                right_face_gray = gray[y:y+h, x:x+int(w/2)]\n",
        "\n",
        "                # Detect the left eye\n",
        "                left_eye = left_eye_detector.detectMultiScale(\n",
        "                    left_face_gray,\n",
        "                    scaleFactor=1.1,\n",
        "                    minNeighbors=5,\n",
        "                    minSize=(30, 30),\n",
        "                    flags = cv2.CASCADE_SCALE_IMAGE\n",
        "                )\n",
        "\n",
        "                # Detect the right eye\n",
        "                right_eye = right_eye_detector.detectMultiScale(\n",
        "                    right_face_gray,\n",
        "                    scaleFactor=1.1,\n",
        "                    minNeighbors=5,\n",
        "                    minSize=(30, 30),\n",
        "                    flags = cv2.CASCADE_SCALE_IMAGE\n",
        "                )\n",
        "\n",
        "                eye_status = '0' # we suppose the eyes are open\n",
        "\n",
        "                # For each eye check wether the eye is closed.\n",
        "                # If one is closed we conclude the eyes are closed\n",
        "                \n",
        "                eyes_detected += eye_status\n",
        "\n",
        "            # Each time, we check if the person has blinked\n",
        "            # If yes, we display its name\n",
        "           \n",
        "\n",
        "      return  isBlinking(eyes_detected,3)\n",
        "test1=['drive/My Drive/w251/w251/eye_open1.jpg','drive/My Drive/w251/w251/eye_closed.jpg','drive/My Drive/w251/w251/eye_open2.jpg']\n",
        "test2=['drive/My Drive/w251/w251/eye_open1.jpg','drive/My Drive/w251/w251/eye_open2.jpg','drive/My Drive/w251/w251/eye_closed.jpg']\n",
        "print(detect_and_display(face_detector, open_eyes_detector, left_eye_detector, right_eye_detector,test1))\n",
        "print(detect_and_display(face_detector, open_eyes_detector, left_eye_detector, right_eye_detector,test2))"
      ],
      "execution_count": 0,
      "outputs": [
        {
          "output_type": "stream",
          "text": [
            "True\n",
            "False\n"
          ],
          "name": "stdout"
        }
      ]
    }
  ]
}